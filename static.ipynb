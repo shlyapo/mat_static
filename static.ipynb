{
 "cells": [
  {
   "cell_type": "code",
   "execution_count": 249,
   "outputs": [],
   "source": [
    "import csv\n",
    "import numpy as np\n",
    "import matplotlib.pyplot as plt\n",
    "from cmath import pi\n",
    "from cmath import exp\n",
    "import math\n",
    "from scipy import stats"
   ],
   "metadata": {
    "collapsed": false,
    "pycharm": {
     "name": "#%%\n"
    }
   }
  },
  {
   "cell_type": "code",
   "execution_count": 250,
   "outputs": [],
   "source": [
    "def func(file):\n",
    "    global set1\n",
    "    set1 = list()\n",
    "    with open (file) as set_1:\n",
    "        reader1 = list(csv.reader(set_1))\n",
    "        set1 = reader1[0]\n",
    "    for i in range(len(set1)):\n",
    "        set1[i] = int(set1[i])\n",
    "    np.random.shuffle(set1)\n",
    "    set1 = set1[0:1000]\n",
    "    set1.sort()\n",
    "\n",
    "    global set1_dict\n",
    "    set1_dict = dict()\n",
    "    for i in set1:\n",
    "        if i in set1_dict.keys():\n",
    "            set1_dict[i] += 1\n",
    "        else:\n",
    "            set1_dict[i] = 1\n",
    "    print(set1_dict)\n",
    "    return"
   ],
   "metadata": {
    "collapsed": false,
    "pycharm": {
     "name": "#%%\n"
    }
   }
  },
  {
   "cell_type": "code",
   "execution_count": 251,
   "outputs": [],
   "source": [
    "def func_for_float(file):\n",
    "    global set1\n",
    "    set1 = list()\n",
    "    with open (file) as set_1:\n",
    "        reader1 = list(csv.reader(set_1))\n",
    "        set1 = reader1[0]\n",
    "\n",
    "    for i in range(len(set1)):\n",
    "        set1[i] = float(set1[i])\n",
    "\n",
    "    np.random.shuffle(set1)\n",
    "    set1 = set1[0:1000]\n",
    "\n",
    "    set1.sort()\n",
    "    global set1_dict\n",
    "    set1_dict = dict()\n",
    "    for i in set1:\n",
    "        if i in set1_dict.keys():\n",
    "            set1_dict[i] += 1\n",
    "        else:\n",
    "            set1_dict[i] = 1"
   ],
   "metadata": {
    "collapsed": false,
    "pycharm": {
     "name": "#%%\n"
    }
   }
  },
  {
   "cell_type": "code",
   "execution_count": 252,
   "outputs": [],
   "source": [
    "def func_1():\n",
    "    global sum_m\n",
    "    global m\n",
    "    global p1_dict\n",
    "    sum_m= 0\n",
    "    p1_dict = {}\n",
    "    for k, v in set1_dict.items():\n",
    "        p1_dict[k] = v/len(set1)\n",
    "        sum_m += k*v\n",
    "    m = sum_m/len(set1)\n",
    "\n",
    "    global sum_D\n",
    "    global d\n",
    "    global q\n",
    "    sum_D = 0\n",
    "    for k, v in set1_dict.items():\n",
    "        sum_D += (k - m)**2*v\n",
    "\n",
    "    d = sum_D/len(set1)\n",
    "    q = d**(1/2)\n",
    "    return"
   ],
   "metadata": {
    "collapsed": false,
    "pycharm": {
     "name": "#%%\n"
    }
   }
  },
  {
   "cell_type": "code",
   "execution_count": 253,
   "outputs": [],
   "source": [
    "def colmogorov_check(x, p, fun):\n",
    "        P = {\n",
    "            0.0: 1.0,\n",
    "            0.1: 1.0,\n",
    "            0.2: 1.0,\n",
    "            0.3: 1.0,\n",
    "            0.4: 0.997,\n",
    "            0.5: 0.964,\n",
    "            0.6: 0.864,\n",
    "            0.7: 0.711,\n",
    "            0.8: 0.544,\n",
    "            0.9: 0.393,\n",
    "            1.0: 0.270,\n",
    "            1.1: 0.178,\n",
    "            1.2: 0.112,\n",
    "            1.3: 0.068,\n",
    "            1.4: 0.040,\n",
    "            1.5: 0.022,\n",
    "            1.6: 0.012,\n",
    "            1.7: 0.006,\n",
    "            1.8: 0.003,\n",
    "            1.9: 0.002,\n",
    "            2.0: 0.001,\n",
    "        }\n",
    "\n",
    "        n = len(set1)\n",
    "        x = list(set1_dict.keys())\n",
    "        D = max([np.abs(Emper_f(set1_dict, x[i], n)-fun(x[i])) for i in range(len(x))])\n",
    "\n",
    "        l = D * (len(x))**(1/2)\n",
    "        l = round(l,1)\n",
    "\n",
    "\n",
    "        print('D is ', D)\n",
    "        print('l is ', l)\n",
    "        if l > 2:\n",
    "            return 0\n",
    "        return P[l]"
   ],
   "metadata": {
    "collapsed": false,
    "pycharm": {
     "name": "#%%\n"
    }
   }
  },
  {
   "cell_type": "code",
   "execution_count": 254,
   "outputs": [],
   "source": [
    "def Emper_f(r_dict,k,n):\n",
    "    my_sum = 0\n",
    "    k_list = list(r_dict.keys())\n",
    "    for i in k_list:\n",
    "        if (i <= k):\n",
    "            my_sum += r_dict[i]\n",
    "        else:\n",
    "            break\n",
    "    return my_sum/n"
   ],
   "metadata": {
    "collapsed": false,
    "pycharm": {
     "name": "#%%\n"
    }
   }
  },
  {
   "cell_type": "code",
   "execution_count": 255,
   "outputs": [],
   "source": [
    "normal_distr = lambda x: 0.5 + 0.5 * math.erf((x-m)/q)"
   ],
   "metadata": {
    "collapsed": false,
    "pycharm": {
     "name": "#%%\n"
    }
   }
  },
  {
   "cell_type": "code",
   "execution_count": 256,
   "outputs": [],
   "source": [
    "def normal(z):\n",
    "    f_normal_distr = lambda x: 1 / ((2 * pi)**(1/2) * q) * exp((-1/2) * ((x - m) / q) ** 2)\n",
    "\n",
    "    y = []\n",
    "    for i in z:\n",
    "        y.append(f_normal_distr(i))\n",
    "\n",
    "    plt.plot(z, y)\n",
    "    plt.show()\n",
    "\n",
    "    print(m)\n",
    "    print(d)\n",
    "    print(q)"
   ],
   "metadata": {
    "collapsed": false,
    "pycharm": {
     "name": "#%%\n"
    }
   }
  },
  {
   "cell_type": "code",
   "execution_count": 257,
   "outputs": [],
   "source": [
    "geometric_p = 1/m\n",
    "geometric_distr = lambda x: 1 - (1-geometric_p)**x"
   ],
   "metadata": {
    "collapsed": false,
    "pycharm": {
     "name": "#%%\n"
    }
   }
  },
  {
   "cell_type": "code",
   "execution_count": 258,
   "outputs": [],
   "source": [
    "def geom():\n",
    "    f_geometric_distr = lambda x: geometric_p*(1 - geometric_p)**(x - 1)\n",
    "    geometric_p = 1/m\n",
    "    print(1/m)\n",
    "    x = set1_dict.keys()\n",
    "    y = []\n",
    "    for i in x:\n",
    "        y.append(f_geometric_distr(i))\n",
    "\n",
    "    plt.plot(x, y)\n",
    "    plt.show()"
   ],
   "metadata": {
    "collapsed": false,
    "pycharm": {
     "name": "#%%\n"
    }
   }
  },
  {
   "cell_type": "code",
   "execution_count": 259,
   "outputs": [],
   "source": [
    "def exp_distr(x):\n",
    "    if x <= 0:\n",
    "        return 0\n",
    "    else:\n",
    "        return 1 - exp(-(1/m)*x)"
   ],
   "metadata": {
    "collapsed": false,
    "pycharm": {
     "name": "#%%\n"
    }
   }
  },
  {
   "cell_type": "code",
   "execution_count": 260,
   "outputs": [],
   "source": [
    "def exp_f():\n",
    "    f_exp_distr = lambda x: (1/m)*exp(-(1/m)*x)\n",
    "\n",
    "    x = []\n",
    "    for i in set1_dict.keys():\n",
    "        if i > 0:\n",
    "            x.append(i)\n",
    "    y = []\n",
    "    for i in x:\n",
    "        y.append(f_exp_distr(i))\n",
    "\n",
    "    plt.plot(x, y)\n",
    "    plt.show()"
   ],
   "metadata": {
    "collapsed": false,
    "pycharm": {
     "name": "#%%\n"
    }
   }
  },
  {
   "cell_type": "code",
   "execution_count": 261,
   "outputs": [],
   "source": [
    "def interval_checking(m, D, n, betta):\n",
    "    t = {\n",
    "            0.80: 1.282,\n",
    "            0.81: 1.310,\n",
    "            0.82: 1.340,\n",
    "            0.83: 1.371,\n",
    "            0.84: 1.404,\n",
    "            0.85: 1.439,\n",
    "            0.86: 1.475,\n",
    "            0.87: 1.513,\n",
    "            0.88: 1.554,\n",
    "            0.89: 1.597,\n",
    "            0.90: 1.643,\n",
    "            0.91: 1.694,\n",
    "            0.92: 1.750,\n",
    "            0.93: 1.810,\n",
    "            0.94: 1.880,\n",
    "            0.95: 1.960,\n",
    "            0.96: 2.053,\n",
    "            0.97: 2.169,\n",
    "            0.98: 2.325,\n",
    "            0.99: 2.576,\n",
    "            0.9973: 3.000,\n",
    "            0.999: 3.290,\n",
    "        }\n",
    "\n",
    "    sigma = (D/n)**(1/2)\n",
    "    eps = sigma*t[betta]\n",
    "\n",
    "    print('m interval is ','[', m-eps,';',m+eps,']')\n",
    "    sigma_d = ((0.8*n+1.2)/(n*(n-1)))**(1/2)*D\n",
    "    print('d interval is ','[', D-t[betta]*sigma_d,';',D+t[betta]*sigma_d,']')\n"
   ],
   "metadata": {
    "collapsed": false,
    "pycharm": {
     "name": "#%%\n"
    }
   }
  },
  {
   "cell_type": "markdown",
   "source": [
    "set1"
   ],
   "metadata": {
    "collapsed": false,
    "pycharm": {
     "name": "#%% md\n"
    }
   }
  },
  {
   "cell_type": "code",
   "execution_count": 262,
   "outputs": [
    {
     "name": "stdout",
     "output_type": "stream",
     "text": [
      "{1: 320, 2: 204, 3: 146, 4: 95, 5: 73, 6: 55, 7: 29, 8: 24, 9: 10, 10: 13, 11: 8, 12: 5, 13: 4, 14: 4, 15: 2, 16: 2, 17: 1, 18: 2, 19: 1, 28: 1, 31: 1}\n"
     ]
    }
   ],
   "source": [
    "func(\"set_1.csv.txt.xls\")"
   ],
   "metadata": {
    "collapsed": false,
    "pycharm": {
     "name": "#%%\n"
    }
   }
  },
  {
   "cell_type": "code",
   "execution_count": 263,
   "outputs": [],
   "source": [
    "func_1()"
   ],
   "metadata": {
    "collapsed": false,
    "pycharm": {
     "name": "#%%\n"
    }
   }
  },
  {
   "cell_type": "code",
   "execution_count": 264,
   "outputs": [
    {
     "data": {
      "text/plain": "<Figure size 432x288 with 1 Axes>",
      "image/png": "[encoded data removed]"
     },
     "metadata": {
      "needs_background": "light"
     },
     "output_type": "display_data"
    }
   ],
   "source": [
    "data = set1\n",
    "plt.hist(data,edgecolor=\"pink\", bins =100)\n",
    "plt.title(\"Histogram\")\n",
    "plt.xlabel(\"Values\")\n",
    "plt.ylabel(\"Frequencies\")\n",
    "plt.show()"
   ],
   "metadata": {
    "collapsed": false,
    "pycharm": {
     "name": "#%%\n"
    }
   }
  },
  {
   "cell_type": "markdown",
   "source": [
    "Normal"
   ],
   "metadata": {
    "collapsed": false,
    "pycharm": {
     "name": "#%% md\n"
    }
   }
  },
  {
   "cell_type": "code",
   "execution_count": 265,
   "outputs": [],
   "source": [
    "normal_distr = lambda x: 0.5 + 0.5 * math.erf((x-m)/q)"
   ],
   "metadata": {
    "collapsed": false,
    "pycharm": {
     "name": "#%%\n"
    }
   }
  },
  {
   "cell_type": "code",
   "execution_count": 266,
   "outputs": [
    {
     "name": "stderr",
     "output_type": "stream",
     "text": [
      "C:\\Users\\stas2\\PycharmProjects\\pythonProject\\venv\\lib\\site-packages\\matplotlib\\cbook\\__init__.py:1298: ComplexWarning: Casting complex values to real discards the imaginary part\n",
      "  return np.asarray(x, float)\n"
     ]
    },
    {
     "data": {
      "text/plain": "<Figure size 432x288 with 1 Axes>",
      "image/png": "[encoded data removed]"
     },
     "metadata": {
      "needs_background": "light"
     },
     "output_type": "display_data"
    },
    {
     "name": "stdout",
     "output_type": "stream",
     "text": [
      "3.305\n",
      "9.071975\n",
      "3.0119719454204747\n"
     ]
    }
   ],
   "source": [
    "x = range(-30,30,1)\n",
    "normal(x)"
   ],
   "metadata": {
    "collapsed": false,
    "pycharm": {
     "name": "#%%\n"
    }
   }
  },
  {
   "cell_type": "markdown",
   "source": [
    "Geometric"
   ],
   "metadata": {
    "collapsed": false,
    "pycharm": {
     "name": "#%% md\n"
    }
   }
  },
  {
   "cell_type": "code",
   "execution_count": 267,
   "outputs": [],
   "source": [
    "##geometric_distr = lambda x: 1 - (1-geometric_p)**x"
   ],
   "metadata": {
    "collapsed": false,
    "pycharm": {
     "name": "#%%\n"
    }
   }
  },
  {
   "cell_type": "code",
   "execution_count": 268,
   "outputs": [
    {
     "name": "stdout",
     "output_type": "stream",
     "text": [
      "0.302571860816944\n"
     ]
    },
    {
     "data": {
      "text/plain": "<Figure size 432x288 with 1 Axes>",
      "image/png": "[encoded data removed]"
     },
     "metadata": {
      "needs_background": "light"
     },
     "output_type": "display_data"
    }
   ],
   "source": [
    "geom()"
   ],
   "metadata": {
    "collapsed": false,
    "pycharm": {
     "name": "#%%\n"
    }
   }
  },
  {
   "cell_type": "markdown",
   "source": [
    "Exponenta"
   ],
   "metadata": {
    "collapsed": false,
    "pycharm": {
     "name": "#%% md\n"
    }
   }
  },
  {
   "cell_type": "code",
   "execution_count": 269,
   "outputs": [],
   "source": [
    "def exp_distr(x):\n",
    "    if x <= 0:\n",
    "        return 0\n",
    "    else:\n",
    "        return 1 - exp(-(1/m)*x)"
   ],
   "metadata": {
    "collapsed": false,
    "pycharm": {
     "name": "#%%\n"
    }
   }
  },
  {
   "cell_type": "code",
   "execution_count": 270,
   "outputs": [
    {
     "data": {
      "text/plain": "<Figure size 432x288 with 1 Axes>",
      "image/png": "[encoded data removed]"
     },
     "metadata": {
      "needs_background": "light"
     },
     "output_type": "display_data"
    }
   ],
   "source": [
    "exp_f()"
   ],
   "metadata": {
    "collapsed": false,
    "pycharm": {
     "name": "#%%\n"
    }
   }
  },
  {
   "cell_type": "code",
   "execution_count": 271,
   "outputs": [
    {
     "name": "stdout",
     "output_type": "stream",
     "text": [
      "D is  2.2378280278534405e+27\n",
      "l is  1.0255016329932137e+28\n",
      "0\n"
     ]
    }
   ],
   "source": [
    "print(colmogorov_check(list(set1_dict.keys()),list(p1_dict.values()),geometric_distr))"
   ],
   "metadata": {
    "collapsed": false,
    "pycharm": {
     "name": "#%%\n"
    }
   }
  },
  {
   "cell_type": "code",
   "execution_count": 272,
   "outputs": [
    {
     "name": "stdout",
     "output_type": "stream",
     "text": [
      "D is  0.2539750978276726\n",
      "l is  1.2\n",
      "0.112\n"
     ]
    }
   ],
   "source": [
    "print(colmogorov_check(list(set1_dict.keys()),list(p1_dict.values()),normal_distr))"
   ],
   "metadata": {
    "collapsed": false,
    "pycharm": {
     "name": "#%%\n"
    }
   }
  },
  {
   "cell_type": "code",
   "execution_count": 273,
   "outputs": [
    {
     "name": "stdout",
     "output_type": "stream",
     "text": [
      "D is  0.0734448085343341\n",
      "l is  0.3\n",
      "1.0\n"
     ]
    }
   ],
   "source": [
    "print(colmogorov_check(list(set1_dict.keys()),list(p1_dict.values()),exp_distr))"
   ],
   "metadata": {
    "collapsed": false,
    "pycharm": {
     "name": "#%%\n"
    }
   }
  },
  {
   "cell_type": "code",
   "execution_count": 274,
   "outputs": [
    {
     "name": "stdout",
     "output_type": "stream",
     "text": [
      "m interval is  [ 3.0835509203916733 ; 3.526449079608327 ]\n",
      "d interval is  [ 8.474647474220815 ; 9.669302525779186 ]\n"
     ]
    }
   ],
   "source": [
    "interval_checking(m,d,1000,0.98)"
   ],
   "metadata": {
    "collapsed": false,
    "pycharm": {
     "name": "#%%\n"
    }
   }
  },
  {
   "cell_type": "markdown",
   "source": [
    "Set2"
   ],
   "metadata": {
    "collapsed": false,
    "pycharm": {
     "name": "#%% md\n"
    }
   }
  },
  {
   "cell_type": "code",
   "execution_count": 275,
   "outputs": [],
   "source": [
    "func_for_float(\"set_2.csv.txt.xls\")"
   ],
   "metadata": {
    "collapsed": false,
    "pycharm": {
     "name": "#%%\n"
    }
   }
  },
  {
   "cell_type": "code",
   "execution_count": 276,
   "outputs": [
    {
     "data": {
      "text/plain": "<Figure size 432x288 with 1 Axes>",
      "image/png": "[encoded data removed]"
     },
     "metadata": {
      "needs_background": "light"
     },
     "output_type": "display_data"
    }
   ],
   "source": [
    "data = set1\n",
    "plt.hist(data,edgecolor=\"black\", bins =100)\n",
    "plt.title(\"Histogram\")\n",
    "plt.xlabel(\"Values\")\n",
    "plt.ylabel(\"Frequencies\")\n",
    "plt.show()"
   ],
   "metadata": {
    "collapsed": false,
    "pycharm": {
     "name": "#%%\n"
    }
   }
  },
  {
   "cell_type": "code",
   "execution_count": 277,
   "outputs": [],
   "source": [
    "func_1()"
   ],
   "metadata": {
    "collapsed": false,
    "pycharm": {
     "name": "#%%\n"
    }
   }
  },
  {
   "cell_type": "code",
   "execution_count": 278,
   "outputs": [
    {
     "data": {
      "text/plain": "<Figure size 432x288 with 1 Axes>",
      "image/png": "[encoded data removed]"
     },
     "metadata": {
      "needs_background": "light"
     },
     "output_type": "display_data"
    },
    {
     "name": "stdout",
     "output_type": "stream",
     "text": [
      "17.589777453000067\n",
      "10899.40335657079\n",
      "104.40020764620533\n"
     ]
    }
   ],
   "source": [
    "x = range(-300,300,1)\n",
    "normal(x)"
   ],
   "metadata": {
    "collapsed": false,
    "pycharm": {
     "name": "#%%\n"
    }
   }
  },
  {
   "cell_type": "code",
   "execution_count": 279,
   "outputs": [
    {
     "name": "stdout",
     "output_type": "stream",
     "text": [
      "0.056851202505091535\n"
     ]
    },
    {
     "data": {
      "text/plain": "<Figure size 432x288 with 1 Axes>",
      "image/png": "[encoded data removed]"
     },
     "metadata": {
      "needs_background": "light"
     },
     "output_type": "display_data"
    }
   ],
   "source": [
    "geom()"
   ],
   "metadata": {
    "collapsed": false,
    "pycharm": {
     "name": "#%%\n"
    }
   }
  },
  {
   "cell_type": "code",
   "execution_count": 280,
   "outputs": [
    {
     "data": {
      "text/plain": "<Figure size 432x288 with 1 Axes>",
      "image/png": "[encoded data removed]"
     },
     "metadata": {
      "needs_background": "light"
     },
     "output_type": "display_data"
    }
   ],
   "source": [
    "exp_f()"
   ],
   "metadata": {
    "collapsed": false,
    "pycharm": {
     "name": "#%%\n"
    }
   }
  },
  {
   "cell_type": "code",
   "execution_count": 281,
   "outputs": [
    {
     "name": "stdout",
     "output_type": "stream",
     "text": [
      "D is  0.05819278913953252\n",
      "l is  1.8\n",
      "0.003\n"
     ]
    }
   ],
   "source": [
    "print(colmogorov_check(set1_dict,list(p1_dict.values()),normal_distr))"
   ],
   "metadata": {
    "collapsed": false,
    "pycharm": {
     "name": "#%%\n"
    }
   }
  },
  {
   "cell_type": "code",
   "execution_count": 282,
   "outputs": [
    {
     "ename": "OverflowError",
     "evalue": "complex exponentiation",
     "output_type": "error",
     "traceback": [
      "\u001B[1;31m---------------------------------------------------------------------------\u001B[0m",
      "\u001B[1;31mOverflowError\u001B[0m                             Traceback (most recent call last)",
      "Input \u001B[1;32mIn [282]\u001B[0m, in \u001B[0;36m<cell line: 1>\u001B[1;34m()\u001B[0m\n\u001B[1;32m----> 1\u001B[0m \u001B[38;5;28mprint\u001B[39m(\u001B[43mcolmogorov_check\u001B[49m\u001B[43m(\u001B[49m\u001B[43mset1_dict\u001B[49m\u001B[43m,\u001B[49m\u001B[38;5;28;43mlist\u001B[39;49m\u001B[43m(\u001B[49m\u001B[43mp1_dict\u001B[49m\u001B[38;5;241;43m.\u001B[39;49m\u001B[43mvalues\u001B[49m\u001B[43m(\u001B[49m\u001B[43m)\u001B[49m\u001B[43m)\u001B[49m\u001B[43m,\u001B[49m\u001B[43mgeometric_distr\u001B[49m\u001B[43m)\u001B[49m)\n",
      "Input \u001B[1;32mIn [253]\u001B[0m, in \u001B[0;36mcolmogorov_check\u001B[1;34m(x, p, fun)\u001B[0m\n\u001B[0;32m     26\u001B[0m n \u001B[38;5;241m=\u001B[39m \u001B[38;5;28mlen\u001B[39m(set1)\n\u001B[0;32m     27\u001B[0m x \u001B[38;5;241m=\u001B[39m \u001B[38;5;28mlist\u001B[39m(set1_dict\u001B[38;5;241m.\u001B[39mkeys())\n\u001B[1;32m---> 28\u001B[0m D \u001B[38;5;241m=\u001B[39m \u001B[38;5;28mmax\u001B[39m([np\u001B[38;5;241m.\u001B[39mabs(Emper_f(set1_dict, x[i], n)\u001B[38;5;241m-\u001B[39mfun(x[i])) \u001B[38;5;28;01mfor\u001B[39;00m i \u001B[38;5;129;01min\u001B[39;00m \u001B[38;5;28mrange\u001B[39m(\u001B[38;5;28mlen\u001B[39m(x))])\n\u001B[0;32m     30\u001B[0m l \u001B[38;5;241m=\u001B[39m D \u001B[38;5;241m*\u001B[39m (\u001B[38;5;28mlen\u001B[39m(x))\u001B[38;5;241m*\u001B[39m\u001B[38;5;241m*\u001B[39m(\u001B[38;5;241m1\u001B[39m\u001B[38;5;241m/\u001B[39m\u001B[38;5;241m2\u001B[39m)\n\u001B[0;32m     31\u001B[0m l \u001B[38;5;241m=\u001B[39m \u001B[38;5;28mround\u001B[39m(l,\u001B[38;5;241m1\u001B[39m)\n",
      "Input \u001B[1;32mIn [253]\u001B[0m, in \u001B[0;36m<listcomp>\u001B[1;34m(.0)\u001B[0m\n\u001B[0;32m     26\u001B[0m n \u001B[38;5;241m=\u001B[39m \u001B[38;5;28mlen\u001B[39m(set1)\n\u001B[0;32m     27\u001B[0m x \u001B[38;5;241m=\u001B[39m \u001B[38;5;28mlist\u001B[39m(set1_dict\u001B[38;5;241m.\u001B[39mkeys())\n\u001B[1;32m---> 28\u001B[0m D \u001B[38;5;241m=\u001B[39m \u001B[38;5;28mmax\u001B[39m([np\u001B[38;5;241m.\u001B[39mabs(Emper_f(set1_dict, x[i], n)\u001B[38;5;241m-\u001B[39m\u001B[43mfun\u001B[49m\u001B[43m(\u001B[49m\u001B[43mx\u001B[49m\u001B[43m[\u001B[49m\u001B[43mi\u001B[49m\u001B[43m]\u001B[49m\u001B[43m)\u001B[49m) \u001B[38;5;28;01mfor\u001B[39;00m i \u001B[38;5;129;01min\u001B[39;00m \u001B[38;5;28mrange\u001B[39m(\u001B[38;5;28mlen\u001B[39m(x))])\n\u001B[0;32m     30\u001B[0m l \u001B[38;5;241m=\u001B[39m D \u001B[38;5;241m*\u001B[39m (\u001B[38;5;28mlen\u001B[39m(x))\u001B[38;5;241m*\u001B[39m\u001B[38;5;241m*\u001B[39m(\u001B[38;5;241m1\u001B[39m\u001B[38;5;241m/\u001B[39m\u001B[38;5;241m2\u001B[39m)\n\u001B[0;32m     31\u001B[0m l \u001B[38;5;241m=\u001B[39m \u001B[38;5;28mround\u001B[39m(l,\u001B[38;5;241m1\u001B[39m)\n",
      "Input \u001B[1;32mIn [257]\u001B[0m, in \u001B[0;36m<lambda>\u001B[1;34m(x)\u001B[0m\n\u001B[0;32m      1\u001B[0m geometric_p \u001B[38;5;241m=\u001B[39m \u001B[38;5;241m1\u001B[39m\u001B[38;5;241m/\u001B[39mm\n\u001B[1;32m----> 2\u001B[0m geometric_distr \u001B[38;5;241m=\u001B[39m \u001B[38;5;28;01mlambda\u001B[39;00m x: \u001B[38;5;241m1\u001B[39m \u001B[38;5;241m-\u001B[39m \u001B[43m(\u001B[49m\u001B[38;5;241;43m1\u001B[39;49m\u001B[38;5;241;43m-\u001B[39;49m\u001B[43mgeometric_p\u001B[49m\u001B[43m)\u001B[49m\u001B[38;5;241;43m*\u001B[39;49m\u001B[38;5;241;43m*\u001B[39;49m\u001B[43mx\u001B[49m\n",
      "\u001B[1;31mOverflowError\u001B[0m: complex exponentiation"
     ]
    }
   ],
   "source": [
    "print(colmogorov_check(set1_dict,list(p1_dict.values()),geometric_distr))"
   ],
   "metadata": {
    "collapsed": false,
    "pycharm": {
     "name": "#%%\n"
    }
   }
  },
  {
   "cell_type": "code",
   "execution_count": null,
   "outputs": [],
   "source": [
    "print(colmogorov_check(set1_dict,list(p1_dict.values()),exp_distr))"
   ],
   "metadata": {
    "collapsed": false,
    "pycharm": {
     "name": "#%%\n"
    }
   }
  },
  {
   "cell_type": "code",
   "execution_count": null,
   "outputs": [],
   "source": [
    "interval_checking(m,d,1000,0.98)"
   ],
   "metadata": {
    "collapsed": false,
    "pycharm": {
     "name": "#%%\n"
    }
   }
  },
  {
   "cell_type": "markdown",
   "source": [
    "Set3"
   ],
   "metadata": {
    "collapsed": false,
    "pycharm": {
     "name": "#%% md\n"
    }
   }
  },
  {
   "cell_type": "code",
   "execution_count": null,
   "outputs": [],
   "source": [
    "func_for_float(\"set_3.csv.txt.xls\")"
   ],
   "metadata": {
    "collapsed": false,
    "pycharm": {
     "name": "#%%\n"
    }
   }
  },
  {
   "cell_type": "code",
   "execution_count": null,
   "outputs": [],
   "source": [
    "data = set1\n",
    "plt.hist(data,edgecolor=\"black\", bins =100)\n",
    "plt.title(\"Histogram\")\n",
    "plt.xlabel(\"Values\")\n",
    "plt.ylabel(\"Frequencies\")\n",
    "plt.show()"
   ],
   "metadata": {
    "collapsed": false,
    "pycharm": {
     "name": "#%%\n"
    }
   }
  },
  {
   "cell_type": "code",
   "execution_count": null,
   "outputs": [],
   "source": [
    "func_1()"
   ],
   "metadata": {
    "collapsed": false,
    "pycharm": {
     "name": "#%%\n"
    }
   }
  },
  {
   "cell_type": "code",
   "execution_count": null,
   "outputs": [],
   "source": [
    "x = [0.05,0.1, 0.2, 0.3, 0.35, 0.4, 0.45, 0.5, 0.55, 0.6, 0.7, 0.8, 0.85]\n",
    "normal(x)"
   ],
   "metadata": {
    "collapsed": false,
    "pycharm": {
     "name": "#%%\n"
    }
   }
  },
  {
   "cell_type": "code",
   "execution_count": null,
   "outputs": [],
   "source": [
    "geom()"
   ],
   "metadata": {
    "collapsed": false,
    "pycharm": {
     "name": "#%%\n"
    }
   }
  },
  {
   "cell_type": "code",
   "execution_count": null,
   "outputs": [],
   "source": [
    "exp_f()"
   ],
   "metadata": {
    "collapsed": false,
    "pycharm": {
     "name": "#%%\n"
    }
   }
  },
  {
   "cell_type": "code",
   "execution_count": null,
   "outputs": [],
   "source": [
    "print(colmogorov_check(set1_dict,list(p1_dict.values()),normal_distr))"
   ],
   "metadata": {
    "collapsed": false,
    "pycharm": {
     "name": "#%%\n"
    }
   }
  },
  {
   "cell_type": "code",
   "execution_count": null,
   "outputs": [],
   "source": [
    "print(colmogorov_check(set1_dict,list(p1_dict.values()),geometric_distr))"
   ],
   "metadata": {
    "collapsed": false,
    "pycharm": {
     "name": "#%%\n"
    }
   }
  },
  {
   "cell_type": "code",
   "execution_count": null,
   "outputs": [],
   "source": [
    "print(colmogorov_check(set1_dict,list(p1_dict.values()),exp_distr))"
   ],
   "metadata": {
    "collapsed": false,
    "pycharm": {
     "name": "#%%\n"
    }
   }
  },
  {
   "cell_type": "code",
   "execution_count": null,
   "outputs": [],
   "source": [
    "interval_checking(m,d,1000,0.98)"
   ],
   "metadata": {
    "collapsed": false,
    "pycharm": {
     "name": "#%%\n"
    }
   }
  },
  {
   "cell_type": "code",
   "execution_count": null,
   "outputs": [],
   "source": [],
   "metadata": {
    "collapsed": false,
    "pycharm": {
     "name": "#%%\n"
    }
   }
  }
 ],
 "metadata": {
  "kernelspec": {
   "display_name": "Python 3",
   "language": "python",
   "name": "python3"
  },
  "language_info": {
   "codemirror_mode": {
    "name": "ipython",
    "version": 2
   },
   "file_extension": ".py",
   "mimetype": "text/x-python",
   "name": "python",
   "nbconvert_exporter": "python",
   "pygments_lexer": "ipython2",
   "version": "2.7.6"
  }
 },
 "nbformat": 4,
 "nbformat_minor": 0
}