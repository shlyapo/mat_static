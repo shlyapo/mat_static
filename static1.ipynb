{
 "cells": [
  {
   "cell_type": "code",
   "execution_count": 465,
   "outputs": [],
   "source": [
    "import csv\n",
    "import numpy as np\n",
    "import matplotlib.pyplot as plt\n",
    "from cmath import pi\n",
    "from cmath import exp\n",
    "import math\n",
    "from scipy import stats"
   ],
   "metadata": {
    "collapsed": false,
    "pycharm": {
     "name": "#%%\n"
    }
   }
  },
  {
   "cell_type": "code",
   "execution_count": 466,
   "outputs": [],
   "source": [
    "def func(file):\n",
    "    global set1\n",
    "    set1 = list()\n",
    "    with open (file) as set_1:\n",
    "        reader1 = list(csv.reader(set_1))\n",
    "        set1 = reader1[0]\n",
    "    for i in range(len(set1)):\n",
    "        set1[i] = int(set1[i])\n",
    "    np.random.shuffle(set1)\n",
    "    set1 = set1[0:1000]\n",
    "    set1.sort()\n",
    "\n",
    "    global set1_dict\n",
    "    set1_dict = dict()\n",
    "    for i in set1:\n",
    "        if i in set1_dict.keys():\n",
    "            set1_dict[i] += 1\n",
    "        else:\n",
    "            set1_dict[i] = 1\n",
    "    print(set1_dict)\n",
    "    return"
   ],
   "metadata": {
    "collapsed": false,
    "pycharm": {
     "name": "#%%\n"
    }
   }
  },
  {
   "cell_type": "code",
   "execution_count": 467,
   "outputs": [],
   "source": [
    "def func_for_float(file):\n",
    "    global set1\n",
    "    set1 = list()\n",
    "    with open (file) as set_1:\n",
    "        reader1 = list(csv.reader(set_1))\n",
    "        set1 = reader1[0]\n",
    "\n",
    "    for i in range(len(set1)):\n",
    "        set1[i] = float(set1[i])\n",
    "\n",
    "    np.random.shuffle(set1)\n",
    "    set1 = set1[0:1000]\n",
    "\n",
    "    set1.sort()\n",
    "    global set1_dict\n",
    "    set1_dict = dict()\n",
    "    for i in set1:\n",
    "        if i in set1_dict.keys():\n",
    "            set1_dict[i] += 1\n",
    "        else:\n",
    "            set1_dict[i] = 1"
   ],
   "metadata": {
    "collapsed": false,
    "pycharm": {
     "name": "#%%\n"
    }
   }
  },
  {
   "cell_type": "code",
   "execution_count": 468,
   "outputs": [],
   "source": [
    "global m\n",
    "def func_1():\n",
    "    global sum_m\n",
    "    global m\n",
    "    global p1_dict\n",
    "    sum_m= 0\n",
    "    p1_dict = {}\n",
    "    for k, v in set1_dict.items():\n",
    "        p1_dict[k] = v/len(set1)\n",
    "        sum_m += k*v\n",
    "    m = sum_m/len(set1)\n",
    "\n",
    "    global sum_D\n",
    "    global d\n",
    "    global q\n",
    "    sum_D = 0\n",
    "    for k, v in set1_dict.items():\n",
    "        sum_D += (k - m)**2*v\n",
    "\n",
    "    d = sum_D/len(set1)\n",
    "    q = d**(1/2)\n",
    "    return"
   ],
   "metadata": {
    "collapsed": false,
    "pycharm": {
     "name": "#%%\n"
    }
   }
  },
  {
   "cell_type": "code",
   "execution_count": 511,
   "outputs": [],
   "source": [
    "def colmogorov_check(x, p, fun):\n",
    "        P = {\n",
    "            0.0: 1.0,\n",
    "            0.1: 1.0,\n",
    "            0.2: 1.0,\n",
    "            0.3: 1.0,\n",
    "            0.4: 0.997,\n",
    "            0.5: 0.964,\n",
    "            0.6: 0.864,\n",
    "            0.7: 0.711,\n",
    "            0.8: 0.544,\n",
    "            0.9: 0.393,\n",
    "            1.0: 0.270,\n",
    "            1.1: 0.178,\n",
    "            1.2: 0.112,\n",
    "            1.3: 0.068,\n",
    "            1.4: 0.040,\n",
    "            1.5: 0.022,\n",
    "            1.6: 0.012,\n",
    "            1.7: 0.006,\n",
    "            1.8: 0.003,\n",
    "            1.9: 0.002,\n",
    "            2.0: 0.001,\n",
    "        }\n",
    "\n",
    "        n = len(set1)\n",
    "        x = list(set1_dict.keys())\n",
    "        D = max([np.abs(emp_f(set1_dict, x[i], n)-fun(x[i])) for i in range(len(x))])\n",
    "\n",
    "        l = D * (len(x))**(1/2)\n",
    "        l = round(l,1)\n",
    "\n",
    "\n",
    "        print('D is ', D)\n",
    "        print('l is ', l)\n",
    "        if l > 2:\n",
    "            return 0\n",
    "        return P[l]"
   ],
   "metadata": {
    "collapsed": false,
    "pycharm": {
     "name": "#%%\n"
    }
   }
  },
  {
   "cell_type": "code",
   "execution_count": 512,
   "outputs": [],
   "source": [
    "def emp_f(r_dict,k,n):\n",
    "    my_sum = 0\n",
    "    k_list = list(r_dict.keys())\n",
    "    for i in k_list:\n",
    "        if (i <= k):\n",
    "            my_sum += r_dict[i]\n",
    "        else:\n",
    "            break\n",
    "    return my_sum/n"
   ],
   "metadata": {
    "collapsed": false,
    "pycharm": {
     "name": "#%%\n"
    }
   }
  },
  {
   "cell_type": "code",
   "execution_count": 471,
   "outputs": [],
   "source": [
    "normal_distr = lambda x: 0.5 + 0.5 * math.erf((x-m)/q)"
   ],
   "metadata": {
    "collapsed": false,
    "pycharm": {
     "name": "#%%\n"
    }
   }
  },
  {
   "cell_type": "code",
   "execution_count": 472,
   "outputs": [],
   "source": [
    "def normal(z):\n",
    "    f_normal_distr = lambda x: 1 / ((2 * pi)**(1/2) * q) * exp((-1/2) * ((x - m) / q) ** 2)\n",
    "\n",
    "    y = []\n",
    "    for i in z:\n",
    "        y.append(f_normal_distr(i))\n",
    "\n",
    "    plt.plot(z, y)\n",
    "    plt.show()\n",
    "\n",
    "    print(m)\n",
    "    print(d)\n",
    "    print(q)"
   ],
   "metadata": {
    "collapsed": false,
    "pycharm": {
     "name": "#%%\n"
    }
   }
  },
  {
   "cell_type": "code",
   "execution_count": 473,
   "outputs": [],
   "source": [
    "geometric_distr = lambda x: 1 - (1- 1/m)**x"
   ],
   "metadata": {
    "collapsed": false,
    "pycharm": {
     "name": "#%%\n"
    }
   }
  },
  {
   "cell_type": "code",
   "execution_count": 474,
   "outputs": [],
   "source": [
    "def geom():\n",
    "    f_geometric_distr = lambda x: geometric_p*(1 - geometric_p)**(x - 1)\n",
    "    geometric_p = 1/m\n",
    "    print(1/m)\n",
    "    x = set1_dict.keys()\n",
    "    y = []\n",
    "    for i in x:\n",
    "        y.append(f_geometric_distr(i))\n",
    "\n",
    "    plt.plot(x, y)\n",
    "    plt.show()"
   ],
   "metadata": {
    "collapsed": false,
    "pycharm": {
     "name": "#%%\n"
    }
   }
  },
  {
   "cell_type": "code",
   "execution_count": 475,
   "outputs": [],
   "source": [
    "def exp_distr(x):\n",
    "    if x <= 0:\n",
    "        return 0\n",
    "    else:\n",
    "        return 1 - exp(-(1/m)*x)"
   ],
   "metadata": {
    "collapsed": false,
    "pycharm": {
     "name": "#%%\n"
    }
   }
  },
  {
   "cell_type": "code",
   "execution_count": 476,
   "outputs": [],
   "source": [
    "def exp_f():\n",
    "    f_exp_distr = lambda x: (1/m)*exp(-(1/m)*x)\n",
    "\n",
    "    x = []\n",
    "    for i in set1_dict.keys():\n",
    "        if i > 0:\n",
    "            x.append(i)\n",
    "    y = []\n",
    "    for i in x:\n",
    "        y.append(f_exp_distr(i))\n",
    "\n",
    "    plt.plot(x, y)\n",
    "    plt.show()"
   ],
   "metadata": {
    "collapsed": false,
    "pycharm": {
     "name": "#%%\n"
    }
   }
  },
  {
   "cell_type": "code",
   "execution_count": 477,
   "outputs": [],
   "source": [
    "def interval_checking(m, D, n, betta):\n",
    "    t = {\n",
    "            0.80: 1.282,\n",
    "            0.81: 1.310,\n",
    "            0.82: 1.340,\n",
    "            0.83: 1.371,\n",
    "            0.84: 1.404,\n",
    "            0.85: 1.439,\n",
    "            0.86: 1.475,\n",
    "            0.87: 1.513,\n",
    "            0.88: 1.554,\n",
    "            0.89: 1.597,\n",
    "            0.90: 1.643,\n",
    "            0.91: 1.694,\n",
    "            0.92: 1.750,\n",
    "            0.93: 1.810,\n",
    "            0.94: 1.880,\n",
    "            0.95: 1.960,\n",
    "            0.96: 2.053,\n",
    "            0.97: 2.169,\n",
    "            0.98: 2.325,\n",
    "            0.99: 2.576,\n",
    "            0.9973: 3.000,\n",
    "            0.999: 3.290,\n",
    "        }\n",
    "\n",
    "    sigma = (D/n)**(1/2)\n",
    "    eps = sigma*t[betta]\n",
    "\n",
    "    print('m interval is ','[', m-eps,';',m+eps,']')\n",
    "    sigma_d = ((0.8*n+1.2)/(n*(n-1)))**(1/2)*D\n",
    "    print('d interval is ','[', D-t[betta]*sigma_d,';',D+t[betta]*sigma_d,']')\n"
   ],
   "metadata": {
    "collapsed": false,
    "pycharm": {
     "name": "#%%\n"
    }
   }
  },
  {
   "cell_type": "markdown",
   "source": [
    "set1"
   ],
   "metadata": {
    "collapsed": false,
    "pycharm": {
     "name": "#%% md\n"
    }
   }
  },
  {
   "cell_type": "code",
   "execution_count": 478,
   "outputs": [
    {
     "name": "stdout",
     "output_type": "stream",
     "text": [
      "{1: 305, 2: 196, 3: 149, 4: 111, 5: 55, 6: 51, 7: 44, 8: 23, 9: 11, 10: 13, 11: 8, 12: 11, 13: 5, 14: 1, 15: 5, 16: 3, 18: 3, 19: 1, 20: 1, 22: 1, 24: 1, 28: 1, 32: 1}\n"
     ]
    }
   ],
   "source": [
    "func(\"set_1.csv.txt.xls\")"
   ],
   "metadata": {
    "collapsed": false,
    "pycharm": {
     "name": "#%%\n"
    }
   }
  },
  {
   "cell_type": "code",
   "execution_count": 479,
   "outputs": [],
   "source": [
    "func_1()"
   ],
   "metadata": {
    "collapsed": false,
    "pycharm": {
     "name": "#%%\n"
    }
   }
  },
  {
   "cell_type": "code",
   "execution_count": 480,
   "outputs": [
    {
     "data": {
      "text/plain": "<Figure size 432x288 with 1 Axes>",
      "image/png": "[encoded data removed]"
     },
     "metadata": {
      "needs_background": "light"
     },
     "output_type": "display_data"
    }
   ],
   "source": [
    "data = set1\n",
    "plt.hist(data,edgecolor=\"pink\", bins =100)\n",
    "plt.title(\"Histogram\")\n",
    "plt.xlabel(\"Values\")\n",
    "plt.ylabel(\"Frequencies\")\n",
    "plt.show()"
   ],
   "metadata": {
    "collapsed": false,
    "pycharm": {
     "name": "#%%\n"
    }
   }
  },
  {
   "cell_type": "markdown",
   "source": [
    "Normal"
   ],
   "metadata": {
    "collapsed": false,
    "pycharm": {
     "name": "#%% md\n"
    }
   }
  },
  {
   "cell_type": "code",
   "execution_count": 481,
   "outputs": [],
   "source": [
    "normal_distr = lambda x: 0.5 + 0.5 * math.erf((x-m)/q)"
   ],
   "metadata": {
    "collapsed": false,
    "pycharm": {
     "name": "#%%\n"
    }
   }
  },
  {
   "cell_type": "code",
   "execution_count": 482,
   "outputs": [
    {
     "data": {
      "text/plain": "<Figure size 432x288 with 1 Axes>",
      "image/png": "[encoded data removed]"
     },
     "metadata": {
      "needs_background": "light"
     },
     "output_type": "display_data"
    },
    {
     "name": "stdout",
     "output_type": "stream",
     "text": [
      "3.511\n",
      "10.995879000000002\n",
      "3.3160034680319623\n"
     ]
    }
   ],
   "source": [
    "x = range(-30,30,1)\n",
    "normal(x)"
   ],
   "metadata": {
    "collapsed": false,
    "pycharm": {
     "name": "#%%\n"
    }
   }
  },
  {
   "cell_type": "markdown",
   "source": [
    "Geometric"
   ],
   "metadata": {
    "collapsed": false,
    "pycharm": {
     "name": "#%% md\n"
    }
   }
  },
  {
   "cell_type": "code",
   "execution_count": 483,
   "outputs": [],
   "source": [
    "##geometric_distr = lambda x: 1 - (1-geometric_p)**x"
   ],
   "metadata": {
    "collapsed": false,
    "pycharm": {
     "name": "#%%\n"
    }
   }
  },
  {
   "cell_type": "code",
   "execution_count": 484,
   "outputs": [
    {
     "name": "stdout",
     "output_type": "stream",
     "text": [
      "0.28481913984619767\n"
     ]
    },
    {
     "data": {
      "text/plain": "<Figure size 432x288 with 1 Axes>",
      "image/png": "[encoded data removed]"
     },
     "metadata": {
      "needs_background": "light"
     },
     "output_type": "display_data"
    }
   ],
   "source": [
    "geom()"
   ],
   "metadata": {
    "collapsed": false,
    "pycharm": {
     "name": "#%%\n"
    }
   }
  },
  {
   "cell_type": "markdown",
   "source": [
    "Exponenta"
   ],
   "metadata": {
    "collapsed": false,
    "pycharm": {
     "name": "#%% md\n"
    }
   }
  },
  {
   "cell_type": "code",
   "execution_count": 485,
   "outputs": [],
   "source": [
    "def exp_distr(x):\n",
    "    if x <= 0:\n",
    "        return 0\n",
    "    else:\n",
    "        return 1 - exp(-(1/m)*x)"
   ],
   "metadata": {
    "collapsed": false,
    "pycharm": {
     "name": "#%%\n"
    }
   }
  },
  {
   "cell_type": "code",
   "execution_count": 486,
   "outputs": [
    {
     "data": {
      "text/plain": "<Figure size 432x288 with 1 Axes>",
      "image/png": "[encoded data removed]"
     },
     "metadata": {
      "needs_background": "light"
     },
     "output_type": "display_data"
    }
   ],
   "source": [
    "exp_f()"
   ],
   "metadata": {
    "collapsed": false,
    "pycharm": {
     "name": "#%%\n"
    }
   }
  },
  {
   "cell_type": "code",
   "execution_count": 487,
   "outputs": [
    {
     "name": "stdout",
     "output_type": "stream",
     "text": [
      "D is  0.02261553724003662\n",
      "l is  0.1\n",
      "1.0\n"
     ]
    }
   ],
   "source": [
    "print(colmogorov_check(list(set1_dict.keys()),list(p1_dict.values()),geometric_distr))"
   ],
   "metadata": {
    "collapsed": false,
    "pycharm": {
     "name": "#%%\n"
    }
   }
  },
  {
   "cell_type": "code",
   "execution_count": 488,
   "outputs": [
    {
     "name": "stdout",
     "output_type": "stream",
     "text": [
      "D is  0.24134626444859097\n",
      "l is  1.2\n",
      "0.112\n"
     ]
    }
   ],
   "source": [
    "print(colmogorov_check(list(set1_dict.keys()),list(p1_dict.values()),normal_distr))"
   ],
   "metadata": {
    "collapsed": false,
    "pycharm": {
     "name": "#%%\n"
    }
   }
  },
  {
   "cell_type": "code",
   "execution_count": 489,
   "outputs": [
    {
     "name": "stdout",
     "output_type": "stream",
     "text": [
      "D is  0.08105047559764078\n",
      "l is  0.4\n",
      "0.997\n"
     ]
    }
   ],
   "source": [
    "print(colmogorov_check(list(set1_dict.keys()),list(p1_dict.values()),exp_distr))"
   ],
   "metadata": {
    "collapsed": false,
    "pycharm": {
     "name": "#%%\n"
    }
   }
  },
  {
   "cell_type": "code",
   "execution_count": 490,
   "outputs": [
    {
     "name": "stdout",
     "output_type": "stream",
     "text": [
      "m interval is  [ 3.2671976242540386 ; 3.7548023757459617 ]\n",
      "d interval is  [ 10.27187555016275 ; 11.719882449837254 ]\n"
     ]
    }
   ],
   "source": [
    "interval_checking(m,d,1000,0.98)"
   ],
   "metadata": {
    "collapsed": false,
    "pycharm": {
     "name": "#%%\n"
    }
   }
  },
  {
   "cell_type": "markdown",
   "source": [
    "Set2"
   ],
   "metadata": {
    "collapsed": false,
    "pycharm": {
     "name": "#%% md\n"
    }
   }
  },
  {
   "cell_type": "code",
   "execution_count": 515,
   "outputs": [],
   "source": [
    "func_for_float(\"set_2.csv.txt.xls\")"
   ],
   "metadata": {
    "collapsed": false,
    "pycharm": {
     "name": "#%%\n"
    }
   }
  },
  {
   "cell_type": "code",
   "execution_count": 516,
   "outputs": [
    {
     "data": {
      "text/plain": "<Figure size 432x288 with 1 Axes>",
      "image/png": "[encoded data removed]"
     },
     "metadata": {
      "needs_background": "light"
     },
     "output_type": "display_data"
    }
   ],
   "source": [
    "data = set1\n",
    "plt.hist(data,edgecolor=\"pink\", bins =100)\n",
    "plt.title(\"Histogram\")\n",
    "plt.xlabel(\"Values\")\n",
    "plt.ylabel(\"Frequencies\")\n",
    "plt.show()"
   ],
   "metadata": {
    "collapsed": false,
    "pycharm": {
     "name": "#%%\n"
    }
   }
  },
  {
   "cell_type": "code",
   "execution_count": 493,
   "outputs": [],
   "source": [
    "func_1()"
   ],
   "metadata": {
    "collapsed": false,
    "pycharm": {
     "name": "#%%\n"
    }
   }
  },
  {
   "cell_type": "code",
   "execution_count": 494,
   "outputs": [
    {
     "data": {
      "text/plain": "<Figure size 432x288 with 1 Axes>",
      "image/png": "[encoded data removed]"
     },
     "metadata": {
      "needs_background": "light"
     },
     "output_type": "display_data"
    },
    {
     "name": "stdout",
     "output_type": "stream",
     "text": [
      "19.25274242100002\n",
      "11497.136056119272\n",
      "107.22469890897\n"
     ]
    }
   ],
   "source": [
    "x = range(-300,300,1)\n",
    "normal(x)"
   ],
   "metadata": {
    "collapsed": false,
    "pycharm": {
     "name": "#%%\n"
    }
   }
  },
  {
   "cell_type": "code",
   "execution_count": 495,
   "outputs": [
    {
     "name": "stdout",
     "output_type": "stream",
     "text": [
      "0.05194065230464234\n"
     ]
    },
    {
     "data": {
      "text/plain": "<Figure size 432x288 with 1 Axes>",
      "image/png": "[encoded data removed]"
     },
     "metadata": {
      "needs_background": "light"
     },
     "output_type": "display_data"
    }
   ],
   "source": [
    "geom()"
   ],
   "metadata": {
    "collapsed": false,
    "pycharm": {
     "name": "#%%\n"
    }
   }
  },
  {
   "cell_type": "code",
   "execution_count": 496,
   "outputs": [
    {
     "data": {
      "text/plain": "<Figure size 432x288 with 1 Axes>",
      "image/png": "[encoded data removed]"
     },
     "metadata": {
      "needs_background": "light"
     },
     "output_type": "display_data"
    }
   ],
   "source": [
    "exp_f()"
   ],
   "metadata": {
    "collapsed": false,
    "pycharm": {
     "name": "#%%\n"
    }
   }
  },
  {
   "cell_type": "code",
   "execution_count": 497,
   "outputs": [
    {
     "name": "stdout",
     "output_type": "stream",
     "text": [
      "D is  0.04394734146374024\n",
      "l is  1.4\n",
      "0.04\n"
     ]
    }
   ],
   "source": [
    "print(colmogorov_check(set1_dict,list(p1_dict.values()),normal_distr))"
   ],
   "metadata": {
    "collapsed": false,
    "pycharm": {
     "name": "#%%\n"
    }
   }
  },
  {
   "cell_type": "code",
   "execution_count": 498,
   "outputs": [
    {
     "name": "stdout",
     "output_type": "stream",
     "text": [
      "D is  3.248224389759887e+20\n",
      "l is  1.0271787422951758e+22\n",
      "0\n"
     ]
    }
   ],
   "source": [
    "print(colmogorov_check(set1_dict,list(p1_dict.values()),geometric_distr))"
   ],
   "metadata": {
    "collapsed": false,
    "pycharm": {
     "name": "#%%\n"
    }
   }
  },
  {
   "cell_type": "code",
   "execution_count": 499,
   "outputs": [
    {
     "name": "stdout",
     "output_type": "stream",
     "text": [
      "D is  0.392\n",
      "l is  12.4\n",
      "0\n"
     ]
    }
   ],
   "source": [
    "print(colmogorov_check(set1_dict,list(p1_dict.values()),exp_distr))"
   ],
   "metadata": {
    "collapsed": false,
    "pycharm": {
     "name": "#%%\n"
    }
   }
  },
  {
   "cell_type": "code",
   "execution_count": 500,
   "outputs": [
    {
     "name": "stdout",
     "output_type": "stream",
     "text": [
      "m interval is  [ 11.369265644008806 ; 27.13621919799123 ]\n",
      "d interval is  [ 10740.128256390064 ; 12254.14385584848 ]\n"
     ]
    }
   ],
   "source": [
    "interval_checking(m,d,1000,0.98)"
   ],
   "metadata": {
    "collapsed": false,
    "pycharm": {
     "name": "#%%\n"
    }
   }
  },
  {
   "cell_type": "markdown",
   "source": [
    "Set3"
   ],
   "metadata": {
    "collapsed": false,
    "pycharm": {
     "name": "#%% md\n"
    }
   }
  },
  {
   "cell_type": "code",
   "execution_count": 517,
   "outputs": [],
   "source": [
    "func_for_float(\"set_3.csv.txt.xls\")"
   ],
   "metadata": {
    "collapsed": false,
    "pycharm": {
     "name": "#%%\n"
    }
   }
  },
  {
   "cell_type": "code",
   "execution_count": 518,
   "outputs": [
    {
     "data": {
      "text/plain": "<Figure size 432x288 with 1 Axes>",
      "image/png": "[encoded data removed]"
     },
     "metadata": {
      "needs_background": "light"
     },
     "output_type": "display_data"
    }
   ],
   "source": [
    "data = set1\n",
    "plt.hist(data,edgecolor=\"pink\", bins =100)\n",
    "plt.title(\"Histogram\")\n",
    "plt.xlabel(\"Values\")\n",
    "plt.ylabel(\"Frequencies\")\n",
    "plt.show()"
   ],
   "metadata": {
    "collapsed": false,
    "pycharm": {
     "name": "#%%\n"
    }
   }
  },
  {
   "cell_type": "code",
   "execution_count": 503,
   "outputs": [],
   "source": [
    "func_1()"
   ],
   "metadata": {
    "collapsed": false,
    "pycharm": {
     "name": "#%%\n"
    }
   }
  },
  {
   "cell_type": "code",
   "execution_count": 504,
   "outputs": [
    {
     "data": {
      "text/plain": "<Figure size 432x288 with 1 Axes>",
      "image/png": "[encoded data removed]"
     },
     "metadata": {
      "needs_background": "light"
     },
     "output_type": "display_data"
    },
    {
     "name": "stdout",
     "output_type": "stream",
     "text": [
      "0.12282812700000001\n",
      "0.028695171124562865\n",
      "0.16939649088621306\n"
     ]
    }
   ],
   "source": [
    "x = [0.05,0.1, 0.2, 0.3, 0.35, 0.4, 0.45, 0.5, 0.55, 0.6, 0.7, 0.8, 0.85]\n",
    "normal(x)"
   ],
   "metadata": {
    "collapsed": false,
    "pycharm": {
     "name": "#%%\n"
    }
   }
  },
  {
   "cell_type": "code",
   "execution_count": 505,
   "outputs": [
    {
     "name": "stdout",
     "output_type": "stream",
     "text": [
      "8.141457697225977\n"
     ]
    },
    {
     "data": {
      "text/plain": "<Figure size 432x288 with 1 Axes>",
      "image/png": "[encoded data removed]"
     },
     "metadata": {
      "needs_background": "light"
     },
     "output_type": "display_data"
    }
   ],
   "source": [
    "geom()"
   ],
   "metadata": {
    "collapsed": false,
    "pycharm": {
     "name": "#%%\n"
    }
   }
  },
  {
   "cell_type": "code",
   "execution_count": 506,
   "outputs": [
    {
     "data": {
      "text/plain": "<Figure size 432x288 with 1 Axes>",
      "image/png": "[encoded data removed]"
     },
     "metadata": {
      "needs_background": "light"
     },
     "output_type": "display_data"
    }
   ],
   "source": [
    "exp_f()"
   ],
   "metadata": {
    "collapsed": false,
    "pycharm": {
     "name": "#%%\n"
    }
   }
  },
  {
   "cell_type": "code",
   "execution_count": 507,
   "outputs": [
    {
     "name": "stdout",
     "output_type": "stream",
     "text": [
      "D is  0.1458368822105503\n",
      "l is  4.6\n",
      "0\n"
     ]
    }
   ],
   "source": [
    "print(colmogorov_check(set1_dict,list(p1_dict.values()),normal_distr))"
   ],
   "metadata": {
    "collapsed": false,
    "pycharm": {
     "name": "#%%\n"
    }
   }
  },
  {
   "cell_type": "code",
   "execution_count": 508,
   "outputs": [
    {
     "name": "stdout",
     "output_type": "stream",
     "text": [
      "D is  9.448923653106954\n",
      "l is  298.4\n",
      "0\n"
     ]
    }
   ],
   "source": [
    "print(colmogorov_check(set1_dict,list(p1_dict.values()),geometric_distr))"
   ],
   "metadata": {
    "collapsed": false,
    "pycharm": {
     "name": "#%%\n"
    }
   }
  },
  {
   "cell_type": "code",
   "execution_count": 509,
   "outputs": [
    {
     "name": "stdout",
     "output_type": "stream",
     "text": [
      "D is  0.018034363809962067\n",
      "l is  0.6\n",
      "0.864\n"
     ]
    }
   ],
   "source": [
    "print(colmogorov_check(set1_dict,list(p1_dict.values()),exp_distr))"
   ],
   "metadata": {
    "collapsed": false,
    "pycharm": {
     "name": "#%%\n"
    }
   }
  },
  {
   "cell_type": "code",
   "execution_count": 510,
   "outputs": [
    {
     "name": "stdout",
     "output_type": "stream",
     "text": [
      "m interval is  [ 0.11037359632196099 ; 0.13528265767803904 ]\n",
      "d interval is  [ 0.026805790303997833 ; 0.030584551945127898 ]\n"
     ]
    }
   ],
   "source": [
    "interval_checking(m,d,1000,0.98)"
   ],
   "metadata": {
    "collapsed": false,
    "pycharm": {
     "name": "#%%\n"
    }
   }
  },
  {
   "cell_type": "code",
   "execution_count": 510,
   "outputs": [],
   "source": [],
   "metadata": {
    "collapsed": false,
    "pycharm": {
     "name": "#%%\n"
    }
   }
  },
  {
   "cell_type": "code",
   "execution_count": 510,
   "outputs": [],
   "source": [],
   "metadata": {
    "collapsed": false,
    "pycharm": {
     "name": "#%%\n"
    }
   }
  }
 ],
 "metadata": {
  "kernelspec": {
   "display_name": "Python 3",
   "language": "python",
   "name": "python3"
  },
  "language_info": {
   "codemirror_mode": {
    "name": "ipython",
    "version": 2
   },
   "file_extension": ".py",
   "mimetype": "text/x-python",
   "name": "python",
   "nbconvert_exporter": "python",
   "pygments_lexer": "ipython2",
   "version": "2.7.6"
  }
 },
 "nbformat": 4,
 "nbformat_minor": 0
}